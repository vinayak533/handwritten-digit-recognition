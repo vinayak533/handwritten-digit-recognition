{
 "cells": [
  {
   "cell_type": "markdown",
   "id": "1c990db0-83bf-420a-8c4b-9fe8917229e9",
   "metadata": {},
   "source": [
    "# MNIST Digit Classifier\n",
    "\n",
    "This is a simple neural network that classifies handwritten digits (0–9) from the MNIST dataset using TensorFlow.\n",
    "\n",
    "- Dataset: MNIST (28x28 grayscale images)\n",
    "- Model: 2 hidden layers with 50 neurons each\n",
    "- Accuracy: ~98%\n",
    "- Tools: TensorFlow, NumPy, TensorFlow Datasets\n",
    "\n",
    "Trained for 5 epochs using Adam optimizer.\n",
    "\n",
    "Author: Vinayak K V\n"
   ]
  },
  {
   "cell_type": "code",
   "execution_count": 1,
   "id": "8279fa15-90a3-4d79-ac5c-1ae2aed1c04e",
   "metadata": {},
   "outputs": [],
   "source": [
    "import numpy as np\n",
    "import tensorflow as tf\n",
    "\n",
    "import tensorflow_datasets as tfds"
   ]
  },
  {
   "cell_type": "code",
   "execution_count": 2,
   "id": "c9b38363-0649-4206-b6a0-b8ce4609552e",
   "metadata": {},
   "outputs": [],
   "source": [
    "mnist_dataset, mnist_info = tfds.load(name='mnist', with_info=True, as_supervised=True)\n",
    "\n",
    "mnist_train, mnist_test = mnist_dataset['train'], mnist_dataset['test']"
   ]
  },
  {
   "cell_type": "code",
   "execution_count": 3,
   "id": "46d399e5-0d56-4872-9e83-447249ff082f",
   "metadata": {},
   "outputs": [],
   "source": [
    "num_validation_samples = 0.1 * mnist_info.splits['train'].num_examples\n",
    "num_validation_samples = tf.cast(num_validation_samples, tf.int64)\n"
   ]
  },
  {
   "cell_type": "code",
   "execution_count": 4,
   "id": "b9ba06af-4a0f-4a79-97a9-beffeb958543",
   "metadata": {},
   "outputs": [],
   "source": [
    "num_test_samples = mnist_info.splits['test'].num_examples\n",
    "num_test_samples = tf.cast(num_test_samples, tf.int64)"
   ]
  },
  {
   "cell_type": "code",
   "execution_count": 5,
   "id": "3e46e3f3-0463-46c5-9d60-e4735f5e3aee",
   "metadata": {},
   "outputs": [],
   "source": [
    "def scale(image, label):\n",
    "    image = tf.cast(image, tf.float32)\n",
    "    image /= 255.\n",
    "    return image, label"
   ]
  },
  {
   "cell_type": "code",
   "execution_count": 6,
   "id": "03215e88-670e-4bf2-9758-30a07aa968b0",
   "metadata": {},
   "outputs": [],
   "source": [
    "scaled_train_and_validation_data = mnist_train.map(scale)\n",
    "\n",
    "test_data = mnist_test.map(scale)"
   ]
  },
  {
   "cell_type": "code",
   "execution_count": 7,
   "id": "e158968b-d690-43b6-b942-c3af4f5a7dd9",
   "metadata": {},
   "outputs": [],
   "source": [
    "BUFFER_SIZE = 10000\n",
    "\n",
    "shuffled_train_and_validation_data = scaled_train_and_validation_data.shuffle(BUFFER_SIZE)\n",
    "\n",
    "validation_data = shuffled_train_and_validation_data.take(num_validation_samples)\n",
    "train_data = shuffled_train_and_validation_data.skip(num_validation_samples)\n"
   ]
  },
  {
   "cell_type": "code",
   "execution_count": 8,
   "id": "647d04e8-bb8c-4980-967c-ba25762ba8d2",
   "metadata": {},
   "outputs": [],
   "source": [
    "BATCH_SIZE = 100\n",
    "\n",
    "train_data = train_data.batch(BATCH_SIZE)\n",
    "validation_data = validation_data.batch(num_validation_samples)\n",
    "test_data = test_data.batch(num_test_samples)\n"
   ]
  },
  {
   "cell_type": "code",
   "execution_count": 9,
   "id": "1d8dd007-3480-4b78-9ad1-37b5a0663cd9",
   "metadata": {},
   "outputs": [],
   "source": [
    "validation_inputs, validation_targets = next(iter(validation_data))"
   ]
  },
  {
   "cell_type": "code",
   "execution_count": 10,
   "id": "10e513a0-a55c-4583-874a-2dcd799e12f4",
   "metadata": {},
   "outputs": [],
   "source": [
    "input_size = 784\n",
    "output_size = 10\n",
    "hidden_layer_size = 50"
   ]
  },
  {
   "cell_type": "code",
   "execution_count": 11,
   "id": "caceb5ba-5fc6-4a42-9f9e-0fcdd76764a8",
   "metadata": {},
   "outputs": [
    {
     "name": "stderr",
     "output_type": "stream",
     "text": [
      "C:\\Users\\vinayak\\OneDrive\\Documents\\anaconda_new\\Lib\\site-packages\\keras\\src\\layers\\reshaping\\flatten.py:37: UserWarning: Do not pass an `input_shape`/`input_dim` argument to a layer. When using Sequential models, prefer using an `Input(shape)` object as the first layer in the model instead.\n",
      "  super().__init__(**kwargs)\n"
     ]
    }
   ],
   "source": [
    "model = tf.keras.Sequential([\n",
    "                            tf.keras.layers.Flatten(input_shape=(28,28,1)),\n",
    "                            tf.keras.layers.Dense(hidden_layer_size, activation='relu'),\n",
    "                            tf.keras.layers.Dense(hidden_layer_size, activation='relu'),\n",
    "                            tf.keras.layers.Dense(output_size, activation='softmax')   \n",
    "                            ])"
   ]
  },
  {
   "cell_type": "code",
   "execution_count": 12,
   "id": "f32fcb2a-8f28-4409-963a-0326ef081c22",
   "metadata": {},
   "outputs": [],
   "source": [
    "model.compile(optimizer='adam', loss='sparse_categorical_crossentropy', metrics=['accuracy'])\n"
   ]
  },
  {
   "cell_type": "code",
   "execution_count": 13,
   "id": "9424b0d3-e31a-4586-bacb-2bd40f06b00f",
   "metadata": {},
   "outputs": [
    {
     "name": "stdout",
     "output_type": "stream",
     "text": [
      "Epoch 1/5\n",
      "540/540 - 9s - 17ms/step - accuracy: 0.8868 - loss: 0.4079 - val_accuracy: 0.9435 - val_loss: 0.2057\n",
      "Epoch 2/5\n",
      "540/540 - 4s - 7ms/step - accuracy: 0.9471 - loss: 0.1814 - val_accuracy: 0.9543 - val_loss: 0.1627\n",
      "Epoch 3/5\n",
      "540/540 - 5s - 9ms/step - accuracy: 0.9582 - loss: 0.1410 - val_accuracy: 0.9620 - val_loss: 0.1282\n",
      "Epoch 4/5\n",
      "540/540 - 5s - 10ms/step - accuracy: 0.9649 - loss: 0.1177 - val_accuracy: 0.9680 - val_loss: 0.1066\n",
      "Epoch 5/5\n",
      "540/540 - 5s - 10ms/step - accuracy: 0.9702 - loss: 0.0991 - val_accuracy: 0.9693 - val_loss: 0.1027\n"
     ]
    },
    {
     "data": {
      "text/plain": [
       "<keras.src.callbacks.history.History at 0x26046bb85c0>"
      ]
     },
     "execution_count": 13,
     "metadata": {},
     "output_type": "execute_result"
    }
   ],
   "source": [
    "NUM_EPOCHS = 5\n",
    "\n",
    "model.fit(train_data, epochs = NUM_EPOCHS, validation_data=(validation_inputs, validation_targets), verbose=2)"
   ]
  },
  {
   "cell_type": "code",
   "execution_count": 14,
   "id": "d1cc42f2-2d4a-4d20-88b2-3ee7c57613bb",
   "metadata": {},
   "outputs": [
    {
     "name": "stdout",
     "output_type": "stream",
     "text": [
      "\u001b[1m1/1\u001b[0m \u001b[32m━━━━━━━━━━━━━━━━━━━━\u001b[0m\u001b[37m\u001b[0m \u001b[1m1s\u001b[0m 816ms/step - accuracy: 0.9626 - loss: 0.1173\n"
     ]
    }
   ],
   "source": [
    "test_loss, test_accuracy = model.evaluate(test_data)"
   ]
  },
  {
   "cell_type": "code",
   "execution_count": 15,
   "id": "292937b4-5b7e-4646-8ec2-8340eee7d4d0",
   "metadata": {},
   "outputs": [
    {
     "name": "stdout",
     "output_type": "stream",
     "text": [
      "Test loss: 0.12. Test accuracy: 96.26%\n"
     ]
    }
   ],
   "source": [
    "print('Test loss: {0:.2f}. Test accuracy: {1:.2f}%'.format(test_loss, test_accuracy*100.))"
   ]
  }
 ],
 "metadata": {
  "kernelspec": {
   "display_name": "Python 3 (ipykernel)",
   "language": "python",
   "name": "python3"
  },
  "language_info": {
   "codemirror_mode": {
    "name": "ipython",
    "version": 3
   },
   "file_extension": ".py",
   "mimetype": "text/x-python",
   "name": "python",
   "nbconvert_exporter": "python",
   "pygments_lexer": "ipython3",
   "version": "3.12.7"
  }
 },
 "nbformat": 4,
 "nbformat_minor": 5
}
